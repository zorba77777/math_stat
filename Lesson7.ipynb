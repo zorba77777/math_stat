{
 "cells": [
  {
   "cell_type": "markdown",
   "metadata": {},
   "source": [
    "### Задача 1\n",
    "1. Найдите коэффициенты линейной регрессии с помощью формул для парной регрессии, а затем с помощью метода наименьших квадратов.\n",
    "2. Постройте scatter plot по данным и отметьте на нём прямую линейной регрессии, полученную в п. 1.\n",
    "3. Посчитайте коэффициент детерминации, среднюю ошибку аппроксимации.\n",
    "4. Оцените построенное уравнение регрессии с помощью F-критерия Фишера.\n",
    "5. Постройте для коэффициентов регрессии доверительные интервалы с помощью t-статистики Стьюдента."
   ]
  },
  {
   "cell_type": "code",
   "execution_count": 12,
   "metadata": {},
   "outputs": [],
   "source": [
    "import numpy as np\n",
    "import matplotlib.pyplot as plt\n",
    "from scipy import stats"
   ]
  },
  {
   "cell_type": "code",
   "execution_count": 13,
   "metadata": {},
   "outputs": [],
   "source": [
    "salary = np.array([[35, 45, 190, 200, 40, 70, 54, 150, 120, 110]])\n",
    "scoring = np.array([[401, 574, 874, 919, 459, 739, 653, 902, 746, 832]])"
   ]
  },
  {
   "cell_type": "markdown",
   "metadata": {},
   "source": [
    "#### Коэффициенты линейной регрессии с помощью формул для парной регрессии"
   ]
  },
  {
   "cell_type": "code",
   "execution_count": 17,
   "metadata": {},
   "outputs": [
    {
     "data": {
      "text/plain": [
       "(414.6526192492885, 2.911709869336405)"
      ]
     },
     "execution_count": 17,
     "metadata": {},
     "output_type": "execute_result"
    }
   ],
   "source": [
    "b1 = np.cov((salary[0], scoring[0]))[0, 1] / pow(np.std(salary), 2)\n",
    "b0 = np.mean(scoring) - b1 * np.mean(salary)\n",
    "b0, b1"
   ]
  },
  {
   "cell_type": "markdown",
   "metadata": {},
   "source": [
    "#### Коэффициенты линейной регрессии с помощью метода наименьших квадратов"
   ]
  },
  {
   "cell_type": "code",
   "execution_count": 23,
   "metadata": {},
   "outputs": [
    {
     "data": {
      "text/plain": [
       "(444.1773573243596, 2.6205388824027636)"
      ]
     },
     "execution_count": 23,
     "metadata": {},
     "output_type": "execute_result"
    }
   ],
   "source": [
    "salary = salary.reshape(-1, 1)\n",
    "scoring = scoring.reshape(-1, 1)\n",
    "\n",
    "ones = np.ones((salary.shape[0], 1))\n",
    "salary_ones = np.hstack((ones, salary))\n",
    "\n",
    "XTX = salary_ones.T.dot(salary_ones)\n",
    "\n",
    "b = np.linalg.inv(XTX).dot(salary_ones.T).dot(scoring)\n",
    "b[0][0], b[1][0]"
   ]
  },
  {
   "cell_type": "markdown",
   "metadata": {},
   "source": [
    "#### scatter plot"
   ]
  },
  {
   "cell_type": "code",
   "execution_count": 24,
   "metadata": {},
   "outputs": [
    {
     "data": {
      "image/png": "[encoded data removed]",
      "text/plain": [
       "<Figure size 432x288 with 1 Axes>"
      ]
     },
     "metadata": {
      "needs_background": "light"
     },
     "output_type": "display_data"
    }
   ],
   "source": [
    "plt.scatter(salary, scoring)\n",
    "plt.plot(salary, salary_ones.dot(b), color='red')\n",
    "plt.plot(salary, salary_ones.dot(np.array([[b0],[b1]])), color='green')\n",
    "plt.show()"
   ]
  },
  {
   "cell_type": "markdown",
   "metadata": {},
   "source": [
    "#### Коэффициент детерминации"
   ]
  },
  {
   "cell_type": "code",
   "execution_count": 26,
   "metadata": {},
   "outputs": [
    {
     "data": {
      "text/plain": [
       "(0.7779147294117221, 0.7876386635293686)"
      ]
     },
     "execution_count": 26,
     "metadata": {},
     "output_type": "execute_result"
    }
   ],
   "source": [
    "z_pair = salary_ones.dot(np.array([[b0],[b1]]))\n",
    "z_std = salary_ones.dot(b)\n",
    "\n",
    "coef_det_pair = 1 - (z_pair-scoring).var()/scoring.var()\n",
    "coef_det_std = 1 - (z_std-scoring).var()/scoring.var()\n",
    "coef_det_pair, coef_det_std"
   ]
  },
  {
   "cell_type": "markdown",
   "metadata": {},
   "source": [
    "#### Средняя ошибка аппроксимации"
   ]
  },
  {
   "cell_type": "code",
   "execution_count": 28,
   "metadata": {},
   "outputs": [
    {
     "data": {
      "text/plain": [
       "(0.1171197299778263, 0.11469251843561704)"
      ]
     },
     "execution_count": 28,
     "metadata": {},
     "output_type": "execute_result"
    }
   ],
   "source": [
    "np.abs((scoring - z_pair) / scoring).mean(), np.abs((scoring - z_std) / scoring).mean()"
   ]
  },
  {
   "cell_type": "markdown",
   "metadata": {},
   "source": [
    "#### Оценка с помощью F-критерия Фишера"
   ]
  },
  {
   "cell_type": "code",
   "execution_count": 29,
   "metadata": {},
   "outputs": [
    {
     "data": {
      "text/plain": [
       "5.317655071578714"
      ]
     },
     "execution_count": 29,
     "metadata": {},
     "output_type": "execute_result"
    }
   ],
   "source": [
    "alpha = 0.05\n",
    "stats.f.ppf(1 - alpha, scoring.shape[1], scoring.shape[0] - scoring.shape[1] - 1)"
   ]
  },
  {
   "cell_type": "code",
   "execution_count": 30,
   "metadata": {},
   "outputs": [
    {
     "data": {
      "text/plain": [
       "(29.67164085966451, 28.022199846072354)"
      ]
     },
     "execution_count": 30,
     "metadata": {},
     "output_type": "execute_result"
    }
   ],
   "source": [
    "F_std = (coef_det_std/scoring.shape[1])/((1-coef_det_std)/(scoring.shape[0] - scoring.shape[1] - 1))\n",
    "F_pair = (coef_det_pair/scoring.shape[1])/((1-coef_det_pair)/(scoring.shape[0] - scoring.shape[1] - 1))\n",
    "F_std, F_pair"
   ]
  },
  {
   "cell_type": "markdown",
   "metadata": {},
   "source": [
    "Оба значения больше чем критиеческое, уравнение статистически значимо"
   ]
  },
  {
   "cell_type": "markdown",
   "metadata": {},
   "source": [
    "#### Доверительные интервалы с помощью t-статистики Стьюдента"
   ]
  },
  {
   "cell_type": "code",
   "execution_count": 33,
   "metadata": {},
   "outputs": [],
   "source": [
    "def standard_error_slope(factor, real, approx):\n",
    "    return np.sqrt(((1/(factor.shape[0]-2))*(real-approx)**2).sum()/((factor-factor.mean())**2).sum())\n",
    "\n",
    "\n",
    "def standard_error_intercept(factor, real, approx):\n",
    "    return standard_error_slope(factor, real, approx)*np.sqrt((factor**2).mean())"
   ]
  },
  {
   "cell_type": "code",
   "execution_count": 34,
   "metadata": {},
   "outputs": [
    {
     "data": {
      "text/plain": [
       "(1.5111599662593704, 3.7299177985461567)"
      ]
     },
     "execution_count": 34,
     "metadata": {},
     "output_type": "execute_result"
    }
   ],
   "source": [
    "alpha = 0.05\n",
    "t = stats.t.ppf(1 - alpha / 2, scoring.shape[0] - 2)\n",
    "err_std = standard_error_slope(salary, scoring, salary_ones.dot(b))\n",
    "b[1][0] - t * err_std, b[1][0] + t*err_std"
   ]
  },
  {
   "cell_type": "code",
   "execution_count": 35,
   "metadata": {},
   "outputs": [
    {
     "data": {
      "text/plain": [
       "(313.9653804816363, 574.3893341670829)"
      ]
     },
     "execution_count": 35,
     "metadata": {},
     "output_type": "execute_result"
    }
   ],
   "source": [
    "err_std_int = standard_error_intercept(salary, scoring, salary_ones.dot(b))\n",
    "b[0][0] - t*err_std_int, b[0][0] + t*err_std_int"
   ]
  },
  {
   "cell_type": "code",
   "execution_count": 36,
   "metadata": {},
   "outputs": [
    {
     "data": {
      "text/plain": [
       "(1.7772162419624697, 4.046203496710341)"
      ]
     },
     "execution_count": 36,
     "metadata": {},
     "output_type": "execute_result"
    }
   ],
   "source": [
    "err_pair = standard_error_slope(salary, scoring, salary_ones.dot(np.array([[b0],[b1]])))\n",
    "b1 - t*err_pair, b1 + t*err_pair"
   ]
  },
  {
   "cell_type": "code",
   "execution_count": 37,
   "metadata": {},
   "outputs": [
    {
     "data": {
      "text/plain": [
       "(281.4928342685382, 547.8124042300387)"
      ]
     },
     "execution_count": 37,
     "metadata": {},
     "output_type": "execute_result"
    }
   ],
   "source": [
    "err_pair_int = standard_error_intercept(salary, scoring, salary_ones.dot(np.array([[b0],[b1]])))\n",
    "b0 - t*err_pair_int, b0 + t * err_pair_int"
   ]
  },
  {
   "cell_type": "markdown",
   "metadata": {},
   "source": [
    "### Задача 2\n",
    "Первые 5 клиентов из предыдущего задания проживают в Москве, а остальные - в Санкт-Петербурге. Влияет ли этот фактор на значение их кредитного скоринга?"
   ]
  },
  {
   "cell_type": "code",
   "execution_count": 39,
   "metadata": {},
   "outputs": [
    {
     "data": {
      "text/plain": [
       "(0.0, 263086.39999999997)"
      ]
     },
     "execution_count": 39,
     "metadata": {},
     "output_type": "execute_result"
    }
   ],
   "source": [
    "y1 = scoring[:5]\n",
    "y2 = scoring[5:]\n",
    "n1 = y1.shape[0]\n",
    "n2 = y2.shape[0]\n",
    "\n",
    "\n",
    "y1_mean = y1.mean()\n",
    "y2_mean = y2.mean()\n",
    "y = np.concatenate((y1, y2))\n",
    "y_mean = y.mean()\n",
    "\n",
    "\n",
    "S2_b = n1*(y1_mean - y_mean) + n2 * (y2_mean - y_mean)\n",
    "S2_w = ((y1 - y1_mean)**2).sum() + ((y2 - y2_mean)**2).sum()\n",
    "S2_b, S2_w"
   ]
  },
  {
   "cell_type": "code",
   "execution_count": 41,
   "metadata": {},
   "outputs": [
    {
     "data": {
      "text/plain": [
       "0.0"
      ]
     },
     "execution_count": 41,
     "metadata": {},
     "output_type": "execute_result"
    }
   ],
   "source": [
    "k = 2\n",
    "n = n1 + n2\n",
    "k1 = k - 1\n",
    "k2 = n - k\n",
    "sigma_2b = S2_b / k1\n",
    "sigma_2w = S2_w / k2\n",
    "\n",
    "\n",
    "F = sigma_2b/sigma_2w\n",
    "F"
   ]
  },
  {
   "cell_type": "code",
   "execution_count": 42,
   "metadata": {},
   "outputs": [
    {
     "data": {
      "text/plain": [
       "5.317655071578714"
      ]
     },
     "execution_count": 42,
     "metadata": {},
     "output_type": "execute_result"
    }
   ],
   "source": [
    "alpha = 0.05\n",
    "f_crit = stats.f.ppf(1 - alpha, k1, k2)\n",
    "f_crit"
   ]
  },
  {
   "cell_type": "markdown",
   "metadata": {},
   "source": [
    "F < f_crit, поэтому данный фактор не влияет на значение кредитного скоринга."
   ]
  },
  {
   "cell_type": "markdown",
   "metadata": {},
   "source": [
    "### Задача 3\n",
    "По каждой паре выборок посчитайте:\n",
    "1. Выборочное среднее и дисперсию каждой выборки,\n",
    "2. Коэффициент корреляции Пирсона и прямую линейной регрессии.  \n",
    "\n",
    "Постройте scatter plot по каждой паре выборок."
   ]
  },
  {
   "cell_type": "code",
   "execution_count": 43,
   "metadata": {},
   "outputs": [],
   "source": [
    "X1 = np.array([10.0, 8.0, 13.0, 9.0, 11.0, 14.0, 6.0, 4.0, 12.0, 7.0, 5.0])\n",
    "Y1 = np.array([8.04, 6.95, 7.58, 8.81, 8.33, 9.96, 7.24, 4.26, 10.84, 4.82, 5.68])\n",
    "X2 = np.array([10.0, 8.0, 13.0, 9.0, 11.0, 14.0, 6.0, 4.0, 12.0, 7.0, 5.0])\n",
    "Y2 = np.array([9.14, 8.14, 8.74, 8.77, 9.26, 8.1, 6.13, 3.1, 9.13, 7.26, 4.74])\n",
    "X3 = np.array([10.0, 8.0, 13.0, 9.0, 11.0, 14.0, 6.0, 4.0, 12.0, 7.0, 5.0])\n",
    "Y3 = np.array([7.46, 6.77, 12.74, 7.11, 7.81, 8.84, 6.08, 5.39, 8.15, 6.42, 5.73])\n",
    "X4 = np.array([8.0, 8.0, 8.0, 8.0, 8.0, 8.0, 8.0, 19.0, 8.0, 8.0, 8.0])\n",
    "Y4 = np.array([6.58, 5.76, 7.71, 8.84, 8.47, 7.04, 5.25, 12.5, 5.56, 7.91, 6.89])"
   ]
  },
  {
   "cell_type": "markdown",
   "metadata": {},
   "source": [
    "#### Выборочное среднее"
   ]
  },
  {
   "cell_type": "code",
   "execution_count": 44,
   "metadata": {},
   "outputs": [
    {
     "data": {
      "text/plain": [
       "((9.0, 7.500909090909093),\n",
       " (9.0, 7.50090909090909),\n",
       " (9.0, 7.5),\n",
       " (9.0, 7.500909090909091))"
      ]
     },
     "execution_count": 44,
     "metadata": {},
     "output_type": "execute_result"
    }
   ],
   "source": [
    "(X1.mean(), Y1.mean()), (X2.mean(), Y2.mean()), (X3.mean(), Y3.mean()), (X4.mean(), Y4.mean())"
   ]
  },
  {
   "cell_type": "markdown",
   "metadata": {},
   "source": [
    "#### Дисперсия"
   ]
  },
  {
   "cell_type": "code",
   "execution_count": 45,
   "metadata": {},
   "outputs": [
    {
     "data": {
      "text/plain": [
       "((10.0, 3.7520628099173554),\n",
       " (10.0, 3.752390082644628),\n",
       " (10.0, 3.747836363636364),\n",
       " (10.0, 3.7484082644628103))"
      ]
     },
     "execution_count": 45,
     "metadata": {},
     "output_type": "execute_result"
    }
   ],
   "source": [
    "(X1.var(), Y1.var()), (X2.var(), Y2.var()), (X3.var(), Y3.var()), (X4.var(), Y4.var())"
   ]
  },
  {
   "cell_type": "markdown",
   "metadata": {},
   "source": [
    "#### Коэффициент корреляции Пирсона"
   ]
  },
  {
   "cell_type": "code",
   "execution_count": 46,
   "metadata": {},
   "outputs": [
    {
     "data": {
      "text/plain": [
       "(0.81642051634484, 0.8162365060002427, 0.8162867394895982, 0.8165214368885029)"
      ]
     },
     "execution_count": 46,
     "metadata": {},
     "output_type": "execute_result"
    }
   ],
   "source": [
    "stats.pearsonr(X1, Y1)[0], stats.pearsonr(X2, Y2)[0], stats.pearsonr(X3, Y3)[0], stats.pearsonr(X4, Y4)[0]"
   ]
  },
  {
   "cell_type": "markdown",
   "metadata": {},
   "source": [
    "#### Прямая линейная регрессия"
   ]
  },
  {
   "cell_type": "code",
   "execution_count": 47,
   "metadata": {},
   "outputs": [
    {
     "data": {
      "text/plain": [
       "(0.5501, 2.550009090909092)"
      ]
     },
     "execution_count": 47,
     "metadata": {},
     "output_type": "execute_result"
    }
   ],
   "source": [
    "X1_Y1_b1 = np.cov((X1, Y1))[0, 1]/pow(np.std(X1), 2)\n",
    "X1_Y1_b0 = np.mean(Y1)-X1_Y1_b1*np.mean(X1)\n",
    "X1_Y1_b1, X1_Y1_b0"
   ]
  },
  {
   "cell_type": "code",
   "execution_count": 48,
   "metadata": {},
   "outputs": [
    {
     "data": {
      "text/plain": [
       "(0.55, 2.55090909090909)"
      ]
     },
     "execution_count": 48,
     "metadata": {},
     "output_type": "execute_result"
    }
   ],
   "source": [
    "X2_Y2_b1 = np.cov((X2, Y2))[0, 1]/pow(np.std(X2), 2)\n",
    "X2_Y2_b0 = np.mean(Y2)-X2_Y2_b1*np.mean(X2)\n",
    "X2_Y2_b1, X2_Y2_b0"
   ]
  },
  {
   "cell_type": "code",
   "execution_count": 49,
   "metadata": {},
   "outputs": [
    {
     "data": {
      "text/plain": [
       "(0.5497000000000001, 2.5526999999999997)"
      ]
     },
     "execution_count": 49,
     "metadata": {},
     "output_type": "execute_result"
    }
   ],
   "source": [
    "X3_Y3_b1 = np.cov((X3, Y3))[0, 1]/pow(np.std(X3), 2)\n",
    "X3_Y3_b0 = np.mean(Y3)-X3_Y3_b1*np.mean(X3)\n",
    "X3_Y3_b1, X3_Y3_b0"
   ]
  },
  {
   "cell_type": "code",
   "execution_count": 50,
   "metadata": {},
   "outputs": [
    {
     "data": {
      "text/plain": [
       "(0.5498999999999998, 2.5518090909090922)"
      ]
     },
     "execution_count": 50,
     "metadata": {},
     "output_type": "execute_result"
    }
   ],
   "source": [
    "X4_Y4_b1 = np.cov((X4, Y4))[0, 1]/pow(np.std(X4), 2)\n",
    "X4_Y4_b0 = np.mean(Y4)-X4_Y4_b1*np.mean(X4)\n",
    "X4_Y4_b1, X4_Y4_b0"
   ]
  },
  {
   "cell_type": "markdown",
   "metadata": {},
   "source": [
    "#### scatter plot"
   ]
  },
  {
   "cell_type": "code",
   "execution_count": 51,
   "metadata": {},
   "outputs": [
    {
     "data": {
      "image/png": "[encoded data removed]",
      "text/plain": [
       "<Figure size 576x432 with 4 Axes>"
      ]
     },
     "metadata": {
      "needs_background": "light"
     },
     "output_type": "display_data"
    }
   ],
   "source": [
    "fig, ax = plt.subplots(nrows=2, ncols=2)\n",
    "ax1, ax2, ax3, ax4 = ax.flatten()\n",
    "\n",
    "ax1.scatter(X1, Y1)\n",
    "ax1.plot(X1, X1_Y1_b1*X1 + X1_Y1_b0, color = 'red')\n",
    "\n",
    "ax2.scatter(X2, Y2)\n",
    "ax2.plot(X2, X2_Y2_b1*X2 + X2_Y2_b0, color = 'red')\n",
    "\n",
    "ax3.scatter(X3, Y3)\n",
    "ax3.plot(X3, X3_Y3_b1*X3 + X3_Y3_b0, color = 'red')\n",
    "\n",
    "ax4.scatter(X4, Y4)\n",
    "ax4.plot(X4, X4_Y4_b1*X4 + X4_Y4_b0, color = 'red')\n",
    "fig.set_size_inches(8, 6)"
   ]
  }
 ],
 "metadata": {
  "kernelspec": {
   "display_name": "Python 3",
   "language": "python",
   "name": "python3"
  },
  "language_info": {
   "codemirror_mode": {
    "name": "ipython",
    "version": 3
   },
   "file_extension": ".py",
   "mimetype": "text/x-python",
   "name": "python",
   "nbconvert_exporter": "python",
   "pygments_lexer": "ipython3",
   "version": "3.6.9"
  }
 },
 "nbformat": 4,
 "nbformat_minor": 4
}
